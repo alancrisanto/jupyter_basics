{
 "cells": [
  {
   "cell_type": "markdown",
   "id": "20868f83-a44b-4550-8a87-2fecd2523d18",
   "metadata": {},
   "source": [
    "# Data Science Tools and Ecosystem"
   ]
  },
  {
   "cell_type": "code",
   "execution_count": null,
   "id": "b65928cd-e789-4c06-b799-48f2df4a7ed2",
   "metadata": {},
   "outputs": [],
   "source": [
    "In this notebook, Data Science Tools and Ecosystem are summarized."
   ]
  },
  {
   "cell_type": "markdown",
   "id": "5bfe2eeb-34c4-41b6-a698-de4aea45a06a",
   "metadata": {},
   "source": [
    "#### Objectives:\n",
    "##### List popular languages for Data Science\n",
    "* Create Headings\n",
    "* Create list\n",
    "* Create tables\n",
    "* Create Code\n",
    "* Create simple arithmetic expression\n"
   ]
  },
  {
   "cell_type": "markdown",
   "id": "2e5fb550-cde0-4182-a515-a9469ff50331",
   "metadata": {},
   "source": [
    "### Some of the popular languages that Data Scientists use are:\n",
    "1. Python\n",
    "2. R\n",
    "3. Java"
   ]
  },
  {
   "cell_type": "markdown",
   "id": "c91d888a-7227-4b29-92d9-4292f6d66723",
   "metadata": {},
   "source": [
    "### Some of the commonly used libraries used by Data Scientists include:\n",
    "1. dplyr\n",
    "2. stringr\n",
    "3. ggplot\n"
   ]
  },
  {
   "cell_type": "markdown",
   "id": "1af40a58-1140-4057-a0fb-78edba42f9ed",
   "metadata": {},
   "source": [
    "|Data Science Tools|\n",
    "--------------------\n",
    "|Watson Studio|\n",
    "|Oracle Database|\n",
    "|Pixie Dust|"
   ]
  },
  {
   "cell_type": "markdown",
   "id": "3e2e75bc-e28f-4cc2-a3ad-5b1b395e504e",
   "metadata": {},
   "source": [
    "\n",
    "### Below are a few examples of evaluating arithmetic expressions in Python"
   ]
  },
  {
   "cell_type": "code",
   "execution_count": 10,
   "id": "3a8efc3b-c1f5-4fe0-a310-5247d74467ac",
   "metadata": {},
   "outputs": [
    {
     "data": {
      "text/plain": [
       "17"
      ]
     },
     "execution_count": 10,
     "metadata": {},
     "output_type": "execute_result"
    }
   ],
   "source": [
    "#This a simple arithmetic expression to mutiply then add integers\n",
    "(3*4)+5"
   ]
  },
  {
   "cell_type": "code",
   "execution_count": 9,
   "id": "010bba3a-7a2d-4817-b08b-539c58aca9d0",
   "metadata": {},
   "outputs": [
    {
     "data": {
      "text/plain": [
       "3.3333333333333335"
      ]
     },
     "execution_count": 9,
     "metadata": {},
     "output_type": "execute_result"
    }
   ],
   "source": [
    "#This will convert 200 minutes to hours by diving by 60\n",
    "200 / 60"
   ]
  },
  {
   "cell_type": "markdown",
   "id": "458bbbda-9576-46e0-8607-768b91f8ad1a",
   "metadata": {},
   "source": [
    "## Author\n",
    "Alan Crisanto\n"
   ]
  },
  {
   "cell_type": "code",
   "execution_count": null,
   "id": "5f2788e3-75dd-4af1-ac7b-11995cbabc0c",
   "metadata": {},
   "outputs": [],
   "source": []
  }
 ],
 "metadata": {
  "kernelspec": {
   "display_name": "Python 3 (ipykernel)",
   "language": "python",
   "name": "python3"
  },
  "language_info": {
   "codemirror_mode": {
    "name": "ipython",
    "version": 3
   },
   "file_extension": ".py",
   "mimetype": "text/x-python",
   "name": "python",
   "nbconvert_exporter": "python",
   "pygments_lexer": "ipython3",
   "version": "3.11.7"
  }
 },
 "nbformat": 4,
 "nbformat_minor": 5
}
